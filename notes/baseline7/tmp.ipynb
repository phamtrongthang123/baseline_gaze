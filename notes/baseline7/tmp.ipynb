{
 "cells": [
  {
   "cell_type": "code",
   "execution_count": 1,
   "metadata": {},
   "outputs": [
    {
     "name": "stderr",
     "output_type": "stream",
     "text": [
      "/home/ptthang/gaze_sample/env_torchism/lib/python3.7/site-packages/tqdm/auto.py:22: TqdmWarning: IProgress not found. Please update jupyter and ipywidgets. See https://ipywidgets.readthedocs.io/en/stable/user_install.html\n",
      "  from .autonotebook import tqdm as notebook_tqdm\n"
     ]
    }
   ],
   "source": [
    "from functorch import vmap\n",
    "import torch\n",
    "import torch.nn as nn\n",
    "import torch.nn.functional as F\n",
    "from torch.autograd import *\n",
    "import pathlib\n",
    "import pickle\n",
    "import einops\n",
    "import math\n",
    "from torchvision.models import resnet50, ResNet50_Weights, resnet101, ResNet101_Weights\n",
    "import torchvision        \n",
    "\n",
    "\n",
    "img_encoder = torchvision.models.resnet101(\n",
    "            weights=ResNet101_Weights.IMAGENET1K_V2\n",
    "        )  # shape out = 512 for resnet 18\n",
    "\n",
    "# hook the feature extractor "
   ]
  },
  {
   "cell_type": "code",
   "execution_count": null,
   "metadata": {},
   "outputs": [],
   "source": [
    "def image_encoder_forward(x):\n",
    "    # resnet forward\n",
    "    x = img_encoder.conv1(x)\n",
    "    x = img_encoder.bn1(x)\n",
    "    x = img_encoder.relu(x)\n",
    "    x = img_encoder.maxpool(x)\n",
    "\n",
    "    x = img_encoder.layer1(x)\n",
    "    x = img_encoder.layer2(x)\n",
    "    x = img_encoder.layer3(x)\n",
    "    x = img_encoder.layer4(x)\n",
    "    return x"
   ]
  },
  {
   "cell_type": "code",
   "execution_count": 5,
   "metadata": {},
   "outputs": [
    {
     "name": "stdout",
     "output_type": "stream",
     "text": [
      "    def _forward_impl(self, x: Tensor) -> Tensor:\n",
      "        # See note [TorchScript super()]\n",
      "        x = self.conv1(x)\n",
      "        x = self.bn1(x)\n",
      "        x = self.relu(x)\n",
      "        x = self.maxpool(x)\n",
      "\n",
      "        x = self.layer1(x)\n",
      "        x = self.layer2(x)\n",
      "        x = self.layer3(x)\n",
      "        x = self.layer4(x)\n",
      "\n",
      "        x = self.avgpool(x)\n",
      "        x = torch.flatten(x, 1)\n",
      "        x = self.fc(x)\n",
      "\n",
      "        return x\n",
      "\n"
     ]
    }
   ],
   "source": [
    "import inspect\n",
    "print(inspect.getsource(img_encoder._forward_impl))"
   ]
  },
  {
   "cell_type": "code",
   "execution_count": null,
   "metadata": {},
   "outputs": [],
   "source": []
  }
 ],
 "metadata": {
  "kernelspec": {
   "display_name": "Python 3",
   "language": "python",
   "name": "python3"
  },
  "language_info": {
   "codemirror_mode": {
    "name": "ipython",
    "version": 3
   },
   "file_extension": ".py",
   "mimetype": "text/x-python",
   "name": "python",
   "nbconvert_exporter": "python",
   "pygments_lexer": "ipython3",
   "version": "3.7.16"
  },
  "orig_nbformat": 4
 },
 "nbformat": 4,
 "nbformat_minor": 2
}
